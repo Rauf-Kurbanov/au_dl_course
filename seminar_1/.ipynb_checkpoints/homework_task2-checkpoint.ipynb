{
 "cells": [
  {
   "cell_type": "code",
   "execution_count": 9,
   "metadata": {
    "collapsed": true
   },
   "outputs": [],
   "source": [
    "import os\n",
    "import numpy as np\n",
    "import tensorflow as tf\n",
    "from tensorflow.examples.tutorials.mnist import input_data\n",
    "import time"
   ]
  },
  {
   "cell_type": "code",
   "execution_count": 10,
   "metadata": {
    "collapsed": true
   },
   "outputs": [],
   "source": [
    "# Define paramaters for the model\n",
    "learning_rate = 0.01\n",
    "batch_size = 128\n",
    "n_epochs = 100"
   ]
  },
  {
   "cell_type": "markdown",
   "metadata": {},
   "source": [
    "Step 1: Read in data<br>\n",
    "using TF Learn's built in function to load MNIST data to the folder data/mnist"
   ]
  },
  {
   "cell_type": "code",
   "execution_count": 11,
   "metadata": {},
   "outputs": [
    {
     "name": "stdout",
     "output_type": "stream",
     "text": [
      "Extracting ./data/mnist/train-images-idx3-ubyte.gz\n",
      "Extracting ./data/mnist/train-labels-idx1-ubyte.gz\n",
      "Extracting ./data/mnist/t10k-images-idx3-ubyte.gz\n",
      "Extracting ./data/mnist/t10k-labels-idx1-ubyte.gz\n"
     ]
    }
   ],
   "source": [
    "mnist = input_data.read_data_sets('./data/mnist', one_hot=True) "
   ]
  },
  {
   "cell_type": "markdown",
   "metadata": {},
   "source": [
    "Step 2: create placeholders for features and labels<br>\n",
    "each image in the MNIST data is of shape 28*28 = 784<br>\n",
    "therefore, each image is represented with a 1x784 tensor<br>\n",
    "there are 10 classes for each image, corresponding to digits 0 - 9.<br>\n",
    "Features are of the type float, and labels are of the type int<br>"
   ]
  },
  {
   "cell_type": "code",
   "execution_count": 12,
   "metadata": {
    "collapsed": true
   },
   "outputs": [],
   "source": [
    "X = tf.placeholder(tf.float64, shape=(None, 784), name='X')\n",
    "Y = tf.placeholder(tf.int32, shape=(None, 10), name='Y')"
   ]
  },
  {
   "cell_type": "markdown",
   "metadata": {},
   "source": [
    "Step 3: create weights and bias<br>\n",
    "weights and biases are initialized to 0<br>\n",
    "shape of w depends on the dimension of X and Y so that Y = X * w + b<br>\n",
    "shape of b depends on Y<br>"
   ]
  },
  {
   "cell_type": "code",
   "execution_count": 13,
   "metadata": {
    "collapsed": true
   },
   "outputs": [],
   "source": [
    "W = tf.Variable(tf.zeros([784, 10], dtype=tf.float64), dtype=tf.float64, name='W')\n",
    "b = tf.Variable(tf.zeros([10], dtype=tf.float64), dtype=tf.float64, name='b')\n",
    "\n",
    "Y_pred = tf.add(tf.matmul(X, W), b)"
   ]
  },
  {
   "cell_type": "markdown",
   "metadata": {},
   "source": [
    "Step 4: build model<br>\n",
    "the model that returns the logits.<br>\n",
    "this logits will be later passed through softmax layer<br>\n",
    "to get the probability distribution of possible label of the image<br>\n",
    "DO NOT DO SOFTMAX HERE<br>"
   ]
  },
  {
   "cell_type": "code",
   "execution_count": 14,
   "metadata": {
    "collapsed": true
   },
   "outputs": [],
   "source": [
    "# logits = tf.log(tf.divide(Y_pred, 1.0 - Y_pred))\n",
    "# logits = tf.sigmoid(Y_pred)\n",
    "# logits = tf.log(Y_pred)\n",
    "logits = Y_pred"
   ]
  },
  {
   "cell_type": "markdown",
   "metadata": {},
   "source": [
    "Step 5: define loss function<br>\n",
    "use cross entropy loss of the real labels with the softmax of logits<br>\n",
    "use the method:<br>\n",
    "tf.nn.softmax_cross_entropy_with_logits(logits, Y)<br>\n",
    "then use tf.reduce_mean to get the mean loss of the batch<br>"
   ]
  },
  {
   "cell_type": "code",
   "execution_count": 15,
   "metadata": {
    "collapsed": true
   },
   "outputs": [],
   "source": [
    "def loss_function(logits, Y):\n",
    "    cross_entropy = tf.nn.softmax_cross_entropy_with_logits(logits=logits, labels=Y)\n",
    "    return tf.reduce_mean(cross_entropy)\n",
    "\n",
    "loss = loss_function(logits, Y)   \n",
    "optimizer = tf.train.GradientDescentOptimizer(learning_rate=learning_rate).minimize(loss)"
   ]
  },
  {
   "cell_type": "markdown",
   "metadata": {},
   "source": [
    "Step 6: define training op<br>\n",
    "using gradient descent to minimize loss"
   ]
  },
  {
   "cell_type": "code",
   "execution_count": 16,
   "metadata": {},
   "outputs": [
    {
     "name": "stdout",
     "output_type": "stream",
     "text": [
      "Average loss epoch 0: 1.2889977731474276\n",
      "Average loss epoch 1: 0.732583129592867\n",
      "Average loss epoch 2: 0.6005408484317143\n",
      "Average loss epoch 3: 0.5371560138220267\n",
      "Average loss epoch 4: 0.49723696422324\n",
      "Average loss epoch 5: 0.47108141468305603\n",
      "Average loss epoch 6: 0.45133306069630136\n",
      "Average loss epoch 7: 0.43604645600098185\n",
      "Average loss epoch 8: 0.42288502736390554\n",
      "Average loss epoch 9: 0.4137359276344566\n",
      "Average loss epoch 10: 0.4044379568715026\n",
      "Average loss epoch 11: 0.39639618987445824\n",
      "Average loss epoch 12: 0.39043713938647484\n",
      "Average loss epoch 13: 0.3849162410588992\n",
      "Average loss epoch 14: 0.3790939226898735\n",
      "Average loss epoch 15: 0.37403185041462406\n",
      "Average loss epoch 16: 0.369837315088555\n",
      "Average loss epoch 17: 0.3673731732265973\n",
      "Average loss epoch 18: 0.363539382373347\n",
      "Average loss epoch 19: 0.3590135424984655\n",
      "Average loss epoch 20: 0.35665221292737426\n",
      "Average loss epoch 21: 0.3532864774485642\n",
      "Average loss epoch 22: 0.35133792180175455\n",
      "Average loss epoch 23: 0.3496312163985095\n",
      "Average loss epoch 24: 0.3448353621665309\n",
      "Average loss epoch 25: 0.345149013479491\n",
      "Average loss epoch 26: 0.3433406067464455\n",
      "Average loss epoch 27: 0.3387978828297372\n",
      "Average loss epoch 28: 0.33911561159667225\n",
      "Average loss epoch 29: 0.33620293377483795\n",
      "Average loss epoch 30: 0.3352432109913849\n",
      "Average loss epoch 31: 0.3329518298380874\n",
      "Average loss epoch 32: 0.3318806980976756\n",
      "Average loss epoch 33: 0.33079215537387435\n",
      "Average loss epoch 34: 0.3304622098216123\n",
      "Average loss epoch 35: 0.32742349492833756\n",
      "Average loss epoch 36: 0.3266339816945654\n",
      "Average loss epoch 37: 0.3240923476019865\n",
      "Average loss epoch 38: 0.3237539535363933\n",
      "Average loss epoch 39: 0.3235786679535477\n",
      "Average loss epoch 40: 0.32129802120420453\n",
      "Average loss epoch 41: 0.3221496256097899\n",
      "Average loss epoch 42: 0.3192027236558355\n",
      "Average loss epoch 43: 0.3201699212877238\n",
      "Average loss epoch 44: 0.3170996052795189\n",
      "Average loss epoch 45: 0.31729531532152666\n",
      "Average loss epoch 46: 0.31556215572292945\n",
      "Average loss epoch 47: 0.3172696807170936\n",
      "Average loss epoch 48: 0.3124644455054765\n",
      "Average loss epoch 49: 0.31338060302648396\n",
      "Average loss epoch 50: 0.3139950197934856\n",
      "Average loss epoch 51: 0.31150921447776514\n",
      "Average loss epoch 52: 0.3114265199547693\n",
      "Average loss epoch 53: 0.3101272374931541\n",
      "Average loss epoch 54: 0.31097280594006277\n",
      "Average loss epoch 55: 0.30831083840400414\n",
      "Average loss epoch 56: 0.3081703476454947\n",
      "Average loss epoch 57: 0.3079577026036855\n",
      "Average loss epoch 58: 0.31067004435830203\n",
      "Average loss epoch 59: 0.30410078135308855\n",
      "Average loss epoch 60: 0.3057071467791503\n",
      "Average loss epoch 61: 0.30838098617403703\n",
      "Average loss epoch 62: 0.30115178823618305\n",
      "Average loss epoch 63: 0.3054270505145977\n",
      "Average loss epoch 64: 0.3036078899582718\n",
      "Average loss epoch 65: 0.30294404928049745\n",
      "Average loss epoch 66: 0.3030388725530123\n",
      "Average loss epoch 67: 0.30166452651302916\n",
      "Average loss epoch 68: 0.30118265245411563\n",
      "Average loss epoch 69: 0.30172080872256757\n",
      "Average loss epoch 70: 0.30417076608723187\n",
      "Average loss epoch 71: 0.29776193047872057\n",
      "Average loss epoch 72: 0.3018588287130536\n",
      "Average loss epoch 73: 0.29910063641912804\n",
      "Average loss epoch 74: 0.29841141703875507\n",
      "Average loss epoch 75: 0.2972913695886626\n",
      "Average loss epoch 76: 0.2975317250798898\n",
      "Average loss epoch 77: 0.2982946044676741\n",
      "Average loss epoch 78: 0.2975858280014292\n",
      "Average loss epoch 79: 0.2973080673940148\n",
      "Average loss epoch 80: 0.29750650341642354\n",
      "Average loss epoch 81: 0.2939853679395457\n",
      "Average loss epoch 82: 0.2946946413446038\n",
      "Average loss epoch 83: 0.2955182871561821\n",
      "Average loss epoch 84: 0.29804243806151426\n",
      "Average loss epoch 85: 0.291696551760773\n",
      "Average loss epoch 86: 0.2946639839205621\n",
      "Average loss epoch 87: 0.29476465737792706\n",
      "Average loss epoch 88: 0.29280362787050507\n",
      "Average loss epoch 89: 0.2934828671959432\n",
      "Average loss epoch 90: 0.2920561773968082\n",
      "Average loss epoch 91: 0.29180076112375536\n",
      "Average loss epoch 92: 0.29346923297838284\n",
      "Average loss epoch 93: 0.2930979264377308\n",
      "Average loss epoch 94: 0.2900261911528153\n",
      "Average loss epoch 95: 0.2907675199150768\n",
      "Average loss epoch 96: 0.29215489772593667\n",
      "Average loss epoch 97: 0.28999004436403625\n",
      "Average loss epoch 98: 0.28724725694048886\n",
      "Average loss epoch 99: 0.29295177243031906\n",
      "Total time: 90.64010691642761 seconds\n",
      "Optimization Finished!\n",
      "Accuracy 0.9188\n"
     ]
    }
   ],
   "source": [
    "with tf.Session() as sess:\n",
    "    start_time = time.time()\n",
    "    sess.run(tf.global_variables_initializer())\t\n",
    "    n_batches = int(mnist.train.num_examples/batch_size)\n",
    "    for i in range(n_epochs): # train the model n_epochs times\n",
    "        total_loss = 0\n",
    "\n",
    "        for _ in range(n_batches):\n",
    "            X_batch, Y_batch = mnist.train.next_batch(batch_size)\n",
    "            # TO-DO: run optimizer + fetch loss_batch\n",
    "            \n",
    "            _, loss_batch = sess.run([optimizer, loss], \n",
    "                                     feed_dict={X:X_batch, Y:Y_batch})\n",
    "            \n",
    "            \n",
    "            total_loss += loss_batch\n",
    "        print('Average loss epoch {0}: {1}'.format(i, total_loss/n_batches))\n",
    "\n",
    "    print('Total time: {0} seconds'.format(time.time() - start_time))\n",
    "\n",
    "    print('Optimization Finished!') # should be around 0.35 after 25 epochs\n",
    "\n",
    "    # test the model\n",
    "    preds = tf.nn.softmax(logits)\n",
    "    correct_preds = tf.equal(tf.argmax(preds, 1), tf.argmax(Y, 1))\n",
    "    accuracy = tf.reduce_sum(tf.cast(correct_preds, tf.float32)) # need numpy.count_nonzero(boolarr) :(\n",
    "\n",
    "    n_batches = int(mnist.test.num_examples/batch_size)\n",
    "    total_correct_preds = 0\n",
    "    \n",
    "    for i in range(n_batches):\n",
    "        X_batch, Y_batch = mnist.test.next_batch(batch_size)\n",
    "        accuracy_batch = sess.run([accuracy], feed_dict={X: X_batch, Y:Y_batch}) \n",
    "        total_correct_preds += accuracy_batch[0]\n",
    "        \n",
    "    print('Accuracy {0}'.format(total_correct_preds/mnist.test.num_examples))"
   ]
  }
 ],
 "metadata": {
  "kernelspec": {
   "display_name": "Python 3",
   "language": "python",
   "name": "python3"
  },
  "language_info": {
   "codemirror_mode": {
    "name": "ipython",
    "version": 3
   },
   "file_extension": ".py",
   "mimetype": "text/x-python",
   "name": "python",
   "nbconvert_exporter": "python",
   "pygments_lexer": "ipython3",
   "version": "3.5.3"
  }
 },
 "nbformat": 4,
 "nbformat_minor": 2
}
