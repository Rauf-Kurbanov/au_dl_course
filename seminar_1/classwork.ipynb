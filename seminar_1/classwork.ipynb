{
 "cells": [
  {
   "cell_type": "code",
   "execution_count": 239,
   "metadata": {
    "collapsed": true
   },
   "outputs": [],
   "source": [
    "import os\n",
    "import numpy as np\n",
    "import matplotlib.pyplot as plt\n",
    "import tensorflow as tf\n",
    "import xlrd"
   ]
  },
  {
   "cell_type": "markdown",
   "metadata": {},
   "source": [
    "Step 1: read in data from the .xls file"
   ]
  },
  {
   "cell_type": "code",
   "execution_count": 240,
   "metadata": {
    "collapsed": true
   },
   "outputs": [],
   "source": [
    "DATA_FILE = '../data/fire_theft.xls'\n",
    "\n",
    "book = xlrd.open_workbook(DATA_FILE, encoding_override=\"utf-8\")\n",
    "sheet = book.sheet_by_index(0)\n",
    "data = np.asarray([sheet.row_values(i) for i in range(1, sheet.nrows)])\n",
    "n_samples = sheet.nrows - 1"
   ]
  },
  {
   "cell_type": "markdown",
   "metadata": {},
   "source": [
    "Step 2: create placeholders for input X (number of fire) and label Y (number of theft)"
   ]
  },
  {
   "cell_type": "code",
   "execution_count": 241,
   "metadata": {
    "collapsed": true
   },
   "outputs": [],
   "source": [
    "X = tf.placeholder(tf.float32, name=\"X\")\n",
    "Y = tf.placeholder(tf.float32, name=\"Y\")"
   ]
  },
  {
   "cell_type": "markdown",
   "metadata": {},
   "source": [
    "Step 3: create weight and bias, initialized to 0"
   ]
  },
  {
   "cell_type": "code",
   "execution_count": 242,
   "metadata": {
    "collapsed": true
   },
   "outputs": [],
   "source": [
    "w = tf.Variable(0.0, name='w')\n",
    "b = tf.Variable(0.0, name='b')"
   ]
  },
  {
   "cell_type": "markdown",
   "metadata": {},
   "source": [
    "Step 4: build model to predict Y"
   ]
  },
  {
   "cell_type": "code",
   "execution_count": 243,
   "metadata": {
    "collapsed": true
   },
   "outputs": [],
   "source": [
    "Y_predicted = w * X + b"
   ]
  },
  {
   "cell_type": "markdown",
   "metadata": {},
   "source": [
    "Step 5: use the square error as the loss function"
   ]
  },
  {
   "cell_type": "code",
   "execution_count": 244,
   "metadata": {
    "collapsed": true
   },
   "outputs": [],
   "source": [
    "loss = tf.square(Y - Y_predicted)"
   ]
  },
  {
   "cell_type": "markdown",
   "metadata": {},
   "source": [
    "Step 5a: implement Huber loss function from lecture and try it out"
   ]
  },
  {
   "cell_type": "code",
   "execution_count": 245,
   "metadata": {
    "collapsed": true
   },
   "outputs": [],
   "source": [
    "def huber_loss(labels, predictions, delta=1.0):\n",
    "    diff = tf.abs(labels - predictions)\n",
    "#     return tf.where(diff <= delta, 0.5 * diff**2, delta * (diff - 0.5 * delta))\n",
    "    return tf.cond(tf.less_equal(diff, delta), \n",
    "                   lambda: tf.multiply(0.5, tf.square(diff)), \n",
    "                   lambda: tf.multiply(delta, tf.subtract(diff, tf.multiply(0.5, delta))))"
   ]
  },
  {
   "cell_type": "code",
   "execution_count": 246,
   "metadata": {
    "collapsed": true
   },
   "outputs": [],
   "source": [
    "loss = huber_loss(Y, Y_predicted, 0.07)"
   ]
  },
  {
   "cell_type": "markdown",
   "metadata": {},
   "source": [
    "Step 6: using gradient descent with learning rate of 0.01 to minimize loss"
   ]
  },
  {
   "cell_type": "code",
   "execution_count": 247,
   "metadata": {
    "collapsed": true
   },
   "outputs": [],
   "source": [
    "optimizer = tf.train.GradientDescentOptimizer(learning_rate=0.001).minimize(loss)"
   ]
  },
  {
   "cell_type": "code",
   "execution_count": 248,
   "metadata": {
    "collapsed": true
   },
   "outputs": [],
   "source": [
    "sess = tf.Session() # prefer with tf.Session() as sess: in your code"
   ]
  },
  {
   "cell_type": "markdown",
   "metadata": {},
   "source": [
    "Step 7: initialize the necessary variables, in this case, w and b"
   ]
  },
  {
   "cell_type": "code",
   "execution_count": 249,
   "metadata": {
    "collapsed": true
   },
   "outputs": [],
   "source": [
    "sess.run(tf.global_variables_initializer())\n",
    "writer = tf.summary.FileWriter('./graphs/linear_reg', sess.graph)"
   ]
  },
  {
   "cell_type": "markdown",
   "metadata": {},
   "source": [
    "Step 8: train the model"
   ]
  },
  {
   "cell_type": "code",
   "execution_count": 250,
   "metadata": {},
   "outputs": [
    {
     "name": "stdout",
     "output_type": "stream",
     "text": [
      "Epoch 0: 2.3381564028206325\n",
      "Epoch 1: 2.3047944562775746\n",
      "Epoch 2: 2.2714325070735955\n",
      "Epoch 3: 2.2380705408397175\n",
      "Epoch 4: 2.2047085525645387\n",
      "Epoch 5: 2.174231105528417\n",
      "Epoch 6: 2.1460898717244468\n",
      "Epoch 7: 2.1179486158348264\n",
      "Epoch 8: 2.089807500796659\n",
      "Epoch 9: 2.0616663226059506\n",
      "Epoch 10: 2.033525153284981\n",
      "Epoch 11: 2.0053840307962325\n",
      "Epoch 12: 1.9772428636040007\n",
      "Epoch 13: 1.9491017006692433\n",
      "Epoch 14: 1.920960470324471\n",
      "Epoch 15: 1.8928192144348508\n",
      "Epoch 16: 1.8646779188088007\n",
      "Epoch 17: 1.8365366558233898\n",
      "Epoch 18: 1.808395388580504\n",
      "Epoch 19: 1.7802540986310869\n",
      "Epoch 20: 1.7521128406127293\n",
      "Epoch 21: 1.723971581884793\n",
      "Epoch 22: 1.6958303245760145\n",
      "Epoch 23: 1.6676890271760167\n",
      "Epoch 24: 1.6395477439676012\n",
      "Epoch 25: 1.6114064588078432\n",
      "Epoch 26: 1.5832652240282012\n",
      "Epoch 27: 1.5581161081790924\n",
      "Epoch 28: 1.53614451966825\n",
      "Epoch 29: 1.5141728183343297\n",
      "Epoch 30: 1.4922010189010984\n",
      "Epoch 31: 1.4702292350786073\n",
      "Epoch 32: 1.4482574577310257\n",
      "Epoch 33: 1.4286669756596286\n",
      "Epoch 34: 1.413403962162279\n",
      "Epoch 35: 1.4014623178514913\n",
      "Epoch 36: 1.3928445780294991\n",
      "Epoch 37: 1.384550616012088\n",
      "Epoch 38: 1.3765212779788791\n",
      "Epoch 39: 1.3704062138373654\n",
      "Epoch 40: 1.364751575692069\n",
      "Epoch 41: 1.3590969269474347\n",
      "Epoch 42: 1.3534422692443644\n",
      "Epoch 43: 1.3477876306999297\n",
      "Epoch 44: 1.342132990558942\n",
      "Epoch 45: 1.3364783431447687\n",
      "Epoch 46: 1.3308236991010962\n",
      "Epoch 47: 1.3251690768769808\n",
      "Epoch 48: 1.3195144011683406\n",
      "Epoch 49: 1.3138597500288771\n"
     ]
    }
   ],
   "source": [
    "for i in range(50): # train the model 50 epochs\n",
    "    total_loss = 0\n",
    "    for x, y in data:\n",
    "        # Session runs train_op and fetch values of loss\n",
    "        _, l = sess.run([optimizer, loss], feed_dict={X:x, Y:y})\n",
    "        total_loss += l\n",
    "    print('Epoch {0}: {1}'.format(i, total_loss/float(n_samples)))\n",
    "\n",
    "# close the writer when you're done using it\n",
    "writer.close() "
   ]
  },
  {
   "cell_type": "markdown",
   "metadata": {},
   "source": [
    "Step 9: output the values of w and b"
   ]
  },
  {
   "cell_type": "code",
   "execution_count": 251,
   "metadata": {
    "collapsed": true
   },
   "outputs": [],
   "source": [
    "w, b = sess.run([w, b])"
   ]
  },
  {
   "cell_type": "markdown",
   "metadata": {},
   "source": [
    "Step 10: plot the results"
   ]
  },
  {
   "cell_type": "code",
   "execution_count": 252,
   "metadata": {},
   "outputs": [
    {
     "data": {
      "image/png": "[encoded data removed]",
      "text/plain": [
       "<matplotlib.figure.Figure at 0x7f15c9e72c18>"
      ]
     },
     "metadata": {},
     "output_type": "display_data"
    }
   ],
   "source": [
    "X, Y = data[:, 0], data[:, 1]\n",
    "plt.scatter(X, Y, label=\"Real data\")\n",
    "plt.plot(X, w * X + b, label=\"Predicted data\", color='r')\n",
    "plt.show()"
   ]
  }
 ],
 "metadata": {
  "kernelspec": {
   "display_name": "Python 3",
   "language": "python",
   "name": "python3"
  },
  "language_info": {
   "codemirror_mode": {
    "name": "ipython",
    "version": 3
   },
   "file_extension": ".py",
   "mimetype": "text/x-python",
   "name": "python",
   "nbconvert_exporter": "python",
   "pygments_lexer": "ipython3",
   "version": "3.5.3"
  }
 },
 "nbformat": 4,
 "nbformat_minor": 2
}
