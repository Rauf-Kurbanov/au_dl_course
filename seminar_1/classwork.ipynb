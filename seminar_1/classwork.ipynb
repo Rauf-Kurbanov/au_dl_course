{
 "cells": [
  {
   "cell_type": "code",
   "execution_count": 1,
   "metadata": {
    "collapsed": true
   },
   "outputs": [],
   "source": [
    "import os\n",
    "import numpy as np\n",
    "import matplotlib.pyplot as plt\n",
    "import tensorflow as tf\n",
    "import xlrd"
   ]
  },
  {
   "cell_type": "markdown",
   "metadata": {},
   "source": [
    "Step 1: read in data from the .xls file"
   ]
  },
  {
   "cell_type": "code",
   "execution_count": 2,
   "metadata": {
    "collapsed": true
   },
   "outputs": [],
   "source": [
    "DATA_FILE = '../data/fire_theft.xls'\n",
    "\n",
    "book = xlrd.open_workbook(DATA_FILE, encoding_override=\"utf-8\")\n",
    "sheet = book.sheet_by_index(0)\n",
    "data = np.asarray([sheet.row_values(i) for i in range(1, sheet.nrows)])\n",
    "n_samples = sheet.nrows - 1"
   ]
  },
  {
   "cell_type": "markdown",
   "metadata": {},
   "source": [
    "Step 2: create placeholders for input X (number of fire) and label Y (number of theft)"
   ]
  },
  {
   "cell_type": "code",
   "execution_count": 3,
   "metadata": {
    "collapsed": true
   },
   "outputs": [],
   "source": [
    "X = tf.placeholder(tf.float32, name=\"X\")\n",
    "Y = tf.placeholder(tf.float32, name=\"Y\")"
   ]
  },
  {
   "cell_type": "markdown",
   "metadata": {},
   "source": [
    "Step 3: create weight and bias, initialized to 0"
   ]
  },
  {
   "cell_type": "code",
   "execution_count": 4,
   "metadata": {
    "collapsed": true
   },
   "outputs": [],
   "source": [
    "w = tf.Variable(0.0, name='w')\n",
    "b = tf.Variable(0.0, name='b')"
   ]
  },
  {
   "cell_type": "markdown",
   "metadata": {},
   "source": [
    "Step 4: build model to predict Y"
   ]
  },
  {
   "cell_type": "code",
   "execution_count": 5,
   "metadata": {
    "collapsed": true
   },
   "outputs": [],
   "source": [
    "Y_predicted = w * X + b"
   ]
  },
  {
   "cell_type": "markdown",
   "metadata": {},
   "source": [
    "Step 5: use the square error as the loss function"
   ]
  },
  {
   "cell_type": "code",
   "execution_count": 6,
   "metadata": {
    "collapsed": true
   },
   "outputs": [],
   "source": [
    "loss = tf.square(Y - Y_predicted)"
   ]
  },
  {
   "cell_type": "markdown",
   "metadata": {},
   "source": [
    "Step 5a: implement Huber loss function from lecture and try it out"
   ]
  },
  {
   "cell_type": "code",
   "execution_count": 7,
   "metadata": {
    "collapsed": true
   },
   "outputs": [],
   "source": [
    "def huber_loss(labels, predictions, delta=1.0):\n",
    "    residual = tf.abs(predictions - labels)\n",
    "    condition = tf.less(residual, delta)\n",
    "    small_res = 0.5 * tf.square(residual)\n",
    "    large_res = delta * residual - 0.5 * tf.square(delta)\n",
    "\n",
    "    return tf.where(condition, small_res, large_res)"
   ]
  },
  {
   "cell_type": "markdown",
   "metadata": {},
   "source": [
    "Step 6: using gradient descent with learning rate of 0.01 to minimize loss"
   ]
  },
  {
   "cell_type": "code",
   "execution_count": 8,
   "metadata": {
    "collapsed": true
   },
   "outputs": [],
   "source": [
    "optimizer = tf.train.GradientDescentOptimizer(learning_rate=0.001).minimize(loss)"
   ]
  },
  {
   "cell_type": "code",
   "execution_count": 9,
   "metadata": {
    "collapsed": true
   },
   "outputs": [],
   "source": [
    "sess = tf.Session() # prefer with tf.Session() as sess: in your code"
   ]
  },
  {
   "cell_type": "markdown",
   "metadata": {},
   "source": [
    "Step 7: initialize the necessary variables, in this case, w and b"
   ]
  },
  {
   "cell_type": "code",
   "execution_count": 10,
   "metadata": {
    "collapsed": true
   },
   "outputs": [],
   "source": [
    "sess.run(tf.global_variables_initializer())\n",
    "writer = tf.summary.FileWriter('./graphs/linear_reg', sess.graph)"
   ]
  },
  {
   "cell_type": "markdown",
   "metadata": {},
   "source": [
    "Step 8: train the model"
   ]
  },
  {
   "cell_type": "code",
   "execution_count": 11,
   "metadata": {},
   "outputs": [
    {
     "name": "stdout",
     "output_type": "stream",
     "text": [
      "Epoch 0: 2069.632077968724\n",
      "Epoch 1: 2117.0124027045676\n",
      "Epoch 2: 2092.302715009167\n",
      "Epoch 3: 2068.508299712269\n",
      "Epoch 4: 2045.59097691377\n",
      "Epoch 5: 2023.51466578529\n",
      "Epoch 6: 2002.2447984701112\n",
      "Epoch 7: 1981.7480356388148\n",
      "Epoch 8: 1961.9942731161912\n",
      "Epoch 9: 1942.9520601381857\n",
      "Epoch 10: 1924.5930879137345\n",
      "Epoch 11: 1906.8898473151382\n",
      "Epoch 12: 1889.8164801984317\n",
      "Epoch 13: 1873.347572792144\n",
      "Epoch 14: 1857.4589788810838\n",
      "Epoch 15: 1842.1277029727187\n",
      "Epoch 16: 1827.3322633700002\n",
      "Epoch 17: 1813.052086790048\n",
      "Epoch 18: 1799.2660774976082\n",
      "Epoch 19: 1785.9562136753016\n",
      "Epoch 20: 1773.1024838801738\n",
      "Epoch 21: 1760.6891868668124\n",
      "Epoch 22: 1748.6984040662203\n",
      "Epoch 23: 1737.1138700809595\n",
      "Epoch 24: 1725.9208882119883\n",
      "Epoch 25: 1715.1045996287653\n",
      "Epoch 26: 1704.6503852187864\n",
      "Epoch 27: 1694.5447281878164\n",
      "Epoch 28: 1684.774640512564\n",
      "Epoch 29: 1675.3281234368194\n",
      "Epoch 30: 1666.1934701423827\n",
      "Epoch 31: 1657.35837137096\n",
      "Epoch 32: 1648.8119148027063\n",
      "Epoch 33: 1640.5438601484611\n",
      "Epoch 34: 1632.5446351634428\n",
      "Epoch 35: 1624.8040233693264\n",
      "Epoch 36: 1617.3129053646587\n",
      "Epoch 37: 1610.0624211200823\n",
      "Epoch 38: 1603.043352031282\n",
      "Epoch 39: 1596.2474155681473\n",
      "Epoch 40: 1589.6680405714683\n",
      "Epoch 41: 1583.2968201761444\n",
      "Epoch 42: 1577.1265113367922\n",
      "Epoch 43: 1571.1499505979675\n",
      "Epoch 44: 1565.3607776878137\n",
      "Epoch 45: 1559.752333032943\n",
      "Epoch 46: 1554.3182108093586\n",
      "Epoch 47: 1549.0529109246675\n",
      "Epoch 48: 1543.950294389966\n",
      "Epoch 49: 1539.0052030345514\n"
     ]
    }
   ],
   "source": [
    "for i in range(50): # train the model 50 epochs\n",
    "    total_loss = 0\n",
    "    for x, y in data:\n",
    "        # Session runs train_op and fetch values of loss\n",
    "        _, l = sess.run([optimizer, loss], feed_dict={X:x, Y:y})\n",
    "        total_loss += l\n",
    "    print('Epoch {0}: {1}'.format(i, total_loss/float(n_samples)))\n",
    "\n",
    "# close the writer when you're done using it\n",
    "writer.close() "
   ]
  },
  {
   "cell_type": "markdown",
   "metadata": {},
   "source": [
    "Step 9: output the values of w and b"
   ]
  },
  {
   "cell_type": "code",
   "execution_count": 12,
   "metadata": {},
   "outputs": [
    {
     "name": "stdout",
     "output_type": "stream",
     "text": [
      "1.99747 12.5687\n"
     ]
    }
   ],
   "source": [
    "w_res, b_res = sess.run([w, b])\n",
    "print(w_res, b_res)"
   ]
  },
  {
   "cell_type": "markdown",
   "metadata": {},
   "source": [
    "Step 10: plot the results"
   ]
  },
  {
   "cell_type": "code",
   "execution_count": 13,
   "metadata": {},
   "outputs": [
    {
     "data": {
      "image/png": "[encoded data removed]",
      "text/plain": [
       "<matplotlib.figure.Figure at 0x7f1d72505f98>"
      ]
     },
     "metadata": {},
     "output_type": "display_data"
    }
   ],
   "source": [
    "X_data, Y_data = data[:, 0], data[:, 1]\n",
    "plt.scatter(X_data, Y_data, label=\"Real data\")\n",
    "plt.plot(X_data, w_res * X_data + b_res, label=\"Predicted data\", color='r')\n",
    "plt.show()"
   ]
  },
  {
   "cell_type": "code",
   "execution_count": 14,
   "metadata": {
    "collapsed": true
   },
   "outputs": [],
   "source": [
    "sess.close()"
   ]
  },
  {
   "cell_type": "markdown",
   "metadata": {},
   "source": [
    "### With huber loss function"
   ]
  },
  {
   "cell_type": "code",
   "execution_count": 15,
   "metadata": {
    "collapsed": true
   },
   "outputs": [],
   "source": [
    "def huber_loss(labels, predictions, delta=1.0):\n",
    "    residual = tf.abs(predictions - labels)\n",
    "    condition = tf.less(residual, delta)\n",
    "    small_res = 0.5 * tf.square(residual)\n",
    "    large_res = delta * residual - 0.5 * tf.square(delta)\n",
    "\n",
    "    return tf.where(condition, small_res, large_res)"
   ]
  },
  {
   "cell_type": "code",
   "execution_count": 16,
   "metadata": {
    "collapsed": true
   },
   "outputs": [],
   "source": [
    "X = tf.placeholder(tf.float32, name=\"X\")\n",
    "Y = tf.placeholder(tf.float32, name=\"Y\")"
   ]
  },
  {
   "cell_type": "code",
   "execution_count": 17,
   "metadata": {
    "collapsed": true
   },
   "outputs": [],
   "source": [
    "w = tf.Variable(0.0, name='w')\n",
    "b = tf.Variable(0.0, name='b')"
   ]
  },
  {
   "cell_type": "code",
   "execution_count": 18,
   "metadata": {
    "collapsed": true
   },
   "outputs": [],
   "source": [
    "Y_predicted = w * X + b"
   ]
  },
  {
   "cell_type": "code",
   "execution_count": 19,
   "metadata": {
    "collapsed": true
   },
   "outputs": [],
   "source": [
    "loss = huber_loss(Y, Y_predicted)"
   ]
  },
  {
   "cell_type": "code",
   "execution_count": 20,
   "metadata": {
    "collapsed": true
   },
   "outputs": [],
   "source": [
    "optimizer = tf.train.GradientDescentOptimizer(learning_rate=0.01).minimize(loss)"
   ]
  },
  {
   "cell_type": "code",
   "execution_count": 21,
   "metadata": {},
   "outputs": [
    {
     "name": "stdout",
     "output_type": "stream",
     "text": [
      "Epoch 0: 20.78248843943168\n",
      "Epoch 1: 17.50859196980794\n",
      "Epoch 2: 17.430589585077193\n",
      "Epoch 3: 17.352587438765028\n",
      "Epoch 4: 17.274585337865922\n",
      "Epoch 5: 17.19658308937436\n",
      "Epoch 6: 17.11858055705116\n",
      "Epoch 7: 17.040578456152055\n",
      "Epoch 8: 16.962575708116805\n",
      "Epoch 9: 16.88457341421218\n",
      "Epoch 10: 16.806571290606545\n",
      "Epoch 11: 16.72856893993559\n",
      "Epoch 12: 16.650566611971175\n",
      "Epoch 13: 16.57189205430803\n",
      "Epoch 14: 16.492146255004975\n",
      "Epoch 15: 16.413320147565432\n",
      "Epoch 16: 16.303213673688116\n",
      "Epoch 17: 16.163562368069375\n",
      "Epoch 18: 16.1193766088358\n",
      "Epoch 19: 15.898681734466837\n",
      "Epoch 20: 16.000069199296245\n",
      "Epoch 21: 15.550617702504885\n",
      "Epoch 22: 15.847922120775495\n",
      "Epoch 23: 15.378736067408076\n",
      "Epoch 24: 15.718447928272543\n",
      "Epoch 25: 15.079710493662528\n",
      "Epoch 26: 15.622703626815651\n",
      "Epoch 27: 15.032802624450554\n",
      "Epoch 28: 15.48331672064073\n",
      "Epoch 29: 14.70006587019279\n",
      "Epoch 30: 15.408374920842194\n",
      "Epoch 31: 14.95937854227876\n",
      "Epoch 32: 14.974695943650746\n",
      "Epoch 33: 14.653287975738445\n",
      "Epoch 34: 15.151982988630023\n",
      "Epoch 35: 14.38070168807393\n",
      "Epoch 36: 15.068492321741013\n",
      "Epoch 37: 14.250959260123116\n",
      "Epoch 38: 14.983209819311188\n",
      "Epoch 39: 14.460558001267989\n",
      "Epoch 40: 14.730455035964647\n",
      "Epoch 41: 14.076656863802956\n",
      "Epoch 42: 14.745804719626904\n",
      "Epoch 43: 13.957951446374258\n",
      "Epoch 44: 14.662714802127864\n",
      "Epoch 45: 13.852281469674338\n",
      "Epoch 46: 14.577189334889962\n",
      "Epoch 47: 13.756537725616779\n",
      "Epoch 48: 14.489059663244657\n",
      "Epoch 49: 13.669385801451252\n"
     ]
    }
   ],
   "source": [
    "with tf.Session() as sess:\n",
    "    sess.run(tf.global_variables_initializer())\n",
    "    \n",
    "    writer = tf.summary.FileWriter('./graphs/linear_reg_huber', sess.graph)\n",
    "    \n",
    "    for i in range(50): # train the model 50 epochs\n",
    "        total_loss = 0\n",
    "        for x, y in data:\n",
    "            # Session runs train_op and fetch values of loss\n",
    "            _, l = sess.run([optimizer, loss], feed_dict={X:x, Y:y})\n",
    "            total_loss += l\n",
    "        print('Epoch {0}: {1}'.format(i, total_loss/float(n_samples)))\n",
    "\n",
    "    # close the writer when you're done using it\n",
    "    writer.close() \n",
    "\n",
    "    w_huber, b_huber = sess.run([w, b])"
   ]
  },
  {
   "cell_type": "code",
   "execution_count": 22,
   "metadata": {},
   "outputs": [
    {
     "data": {
      "image/png": "[encoded data removed]",
      "text/plain": [
       "<matplotlib.figure.Figure at 0x7f1d406ddf28>"
      ]
     },
     "metadata": {},
     "output_type": "display_data"
    }
   ],
   "source": [
    "X_data, Y_data = data[:, 0], data[:, 1]\n",
    "plt.scatter(X_data, Y_data, label=\"Real data\")\n",
    "plt.plot(X_data, w_huber * X_data + b_huber, label=\"Predicted data\", color='r')\n",
    "plt.title('Huber loss')\n",
    "plt.show()"
   ]
  },
  {
   "cell_type": "code",
   "execution_count": null,
   "metadata": {},
   "outputs": [],
   "source": []
  },
  {
   "cell_type": "code",
   "execution_count": null,
   "metadata": {},
   "outputs": [],
   "source": []
  },
  {
   "cell_type": "code",
   "execution_count": null,
   "metadata": {
    "collapsed": true
   },
   "outputs": [],
   "source": []
  }
 ],
 "metadata": {
  "kernelspec": {
   "display_name": "Python 3",
   "language": "python",
   "name": "python3"
  },
  "language_info": {
   "codemirror_mode": {
    "name": "ipython",
    "version": 3
   },
   "file_extension": ".py",
   "mimetype": "text/x-python",
   "name": "python",
   "nbconvert_exporter": "python",
   "pygments_lexer": "ipython3",
   "version": "3.6.2"
  }
 },
 "nbformat": 4,
 "nbformat_minor": 2
}
