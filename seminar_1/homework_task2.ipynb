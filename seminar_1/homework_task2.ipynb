{
 "cells": [
  {
   "cell_type": "code",
   "execution_count": 11,
   "metadata": {
    "collapsed": true
   },
   "outputs": [],
   "source": [
    "import os\n",
    "import numpy as np\n",
    "import tensorflow as tf\n",
    "from tensorflow.examples.tutorials.mnist import input_data\n",
    "import time"
   ]
  },
  {
   "cell_type": "code",
   "execution_count": 12,
   "metadata": {
    "collapsed": true
   },
   "outputs": [],
   "source": [
    "# Define paramaters for the model\n",
    "learning_rate = 0.01\n",
    "batch_size = 128\n",
    "n_epochs = 25"
   ]
  },
  {
   "cell_type": "markdown",
   "metadata": {},
   "source": [
    "Step 1: Read in data<br>\n",
    "using TF Learn's built in function to load MNIST data to the folder data/mnist"
   ]
  },
  {
   "cell_type": "code",
   "execution_count": 13,
   "metadata": {},
   "outputs": [
    {
     "name": "stdout",
     "output_type": "stream",
     "text": [
      "Extracting data/mnist/train-images-idx3-ubyte.gz\n",
      "Extracting data/mnist/train-labels-idx1-ubyte.gz\n",
      "Extracting data/mnist/t10k-images-idx3-ubyte.gz\n",
      "Extracting data/mnist/t10k-labels-idx1-ubyte.gz\n"
     ]
    }
   ],
   "source": [
    "mnist = input_data.read_data_sets('data/mnist', one_hot=True) "
   ]
  },
  {
   "cell_type": "markdown",
   "metadata": {},
   "source": [
    "Step 2: create placeholders for features and labels<br>\n",
    "each image in the MNIST data is of shape 28*28 = 784<br>\n",
    "therefore, each image is represented with a 1x784 tensor<br>\n",
    "there are 10 classes for each image, corresponding to digits 0 - 9.<br>\n",
    "Features are of the type float, and labels are of the type int<br>"
   ]
  },
  {
   "cell_type": "code",
   "execution_count": 14,
   "metadata": {},
   "outputs": [],
   "source": [
    "X = tf.placeholder(tf.float32, (None, 28*28))\n",
    "y = tf.placeholder(tf.int32, (None, 10))"
   ]
  },
  {
   "cell_type": "markdown",
   "metadata": {},
   "source": [
    "Step 3: create weights and bias<br>\n",
    "weights and biases are initialized to 0<br>\n",
    "shape of w depends on the dimension of X and Y so that Y = X * w + b<br>\n",
    "shape of b depends on Y<br>"
   ]
  },
  {
   "cell_type": "code",
   "execution_count": 15,
   "metadata": {},
   "outputs": [],
   "source": [
    "w = tf.Variable(tf.zeros(shape=(784, 10)))\n",
    "b = tf.Variable(tf.zeros(shape=(10)))"
   ]
  },
  {
   "cell_type": "markdown",
   "metadata": {},
   "source": [
    "Step 4: build model<br>\n",
    "the model that returns the logits.<br>\n",
    "this logits will be later passed through softmax layer<br>\n",
    "to get the probability distribution of possible label of the image<br>\n",
    "DO NOT DO SOFTMAX HERE<br>"
   ]
  },
  {
   "cell_type": "code",
   "execution_count": 16,
   "metadata": {},
   "outputs": [],
   "source": [
    "# Y_pred = tf.matmul(X, w) + b\n",
    "# logits = tf.log(Y_pred/(1 - Y_pred))\n",
    "\n",
    "logits = tf.matmul(X, w) + b"
   ]
  },
  {
   "cell_type": "markdown",
   "metadata": {},
   "source": [
    "Step 5: define loss function<br>\n",
    "use cross entropy loss of the real labels with the softmax of logits<br>\n",
    "use the method:<br>\n",
    "tf.nn.softmax_cross_entropy_with_logits(logits, Y)<br>\n",
    "then use tf.reduce_mean to get the mean loss of the batch<br>"
   ]
  },
  {
   "cell_type": "code",
   "execution_count": 17,
   "metadata": {},
   "outputs": [],
   "source": [
    "loss = tf.nn.softmax_cross_entropy_with_logits(logits=logits, labels=y)\n",
    "loss_mean = tf.reduce_mean(loss)\n",
    "\n",
    "optimizer = tf.train.GradientDescentOptimizer(learning_rate=learning_rate).minimize(loss_mean)"
   ]
  },
  {
   "cell_type": "markdown",
   "metadata": {},
   "source": [
    "Step 6: define training op<br>\n",
    "using gradient descent to minimize loss"
   ]
  },
  {
   "cell_type": "code",
   "execution_count": 18,
   "metadata": {},
   "outputs": [
    {
     "name": "stdout",
     "output_type": "stream",
     "text": [
      "Average loss epoch 0: 1.2884843292491974\n",
      "Average loss epoch 1: 0.7329979826520373\n",
      "Average loss epoch 2: 0.5999536428140315\n",
      "Average loss epoch 3: 0.5369657965806814\n",
      "Average loss epoch 4: 0.49793188180123177\n",
      "Average loss epoch 5: 0.47053383335922705\n",
      "Average loss epoch 6: 0.45114182307447864\n",
      "Average loss epoch 7: 0.43575728835759464\n",
      "Average loss epoch 8: 0.4237211953093122\n",
      "Average loss epoch 9: 0.4128996309561607\n",
      "Average loss epoch 10: 0.4038750816892077\n",
      "Average loss epoch 11: 0.39791446229516764\n",
      "Average loss epoch 12: 0.3904208157098655\n",
      "Average loss epoch 13: 0.38316211010609474\n",
      "Average loss epoch 14: 0.3809316409078789\n",
      "Average loss epoch 15: 0.3744200787622056\n",
      "Average loss epoch 16: 0.3696595296645776\n",
      "Average loss epoch 17: 0.36700802190459414\n",
      "Average loss epoch 18: 0.362038462068929\n",
      "Average loss epoch 19: 0.3598330395343976\n",
      "Average loss epoch 20: 0.35740740506938007\n",
      "Average loss epoch 21: 0.35418247172743567\n",
      "Average loss epoch 22: 0.35089842888303013\n",
      "Average loss epoch 23: 0.3481047785990722\n",
      "Average loss epoch 24: 0.34675167716327526\n",
      "Total time: 14.528297424316406 seconds\n",
      "Optimization Finished!\n",
      "Accuracy 0.9101\n"
     ]
    }
   ],
   "source": [
    "with tf.Session() as sess:\n",
    "    start_time = time.time()\n",
    "    sess.run(tf.global_variables_initializer()) \n",
    "    n_batches = int(mnist.train.num_examples/batch_size)\n",
    "    for i in range(n_epochs): # train the model n_epochs times\n",
    "        total_loss = 0\n",
    "\n",
    "        for _ in range(n_batches):\n",
    "            X_batch, Y_batch = mnist.train.next_batch(batch_size)\n",
    "            _, loss_batch = sess.run([optimizer, loss], feed_dict={X:X_batch, y:Y_batch})\n",
    "            total_loss += np.mean(loss_batch)\n",
    "        print('Average loss epoch {0}: {1}'.format(i, total_loss/n_batches))\n",
    "\n",
    "    print('Total time: {0} seconds'.format(time.time() - start_time))\n",
    "\n",
    "    print('Optimization Finished!') # should be around 0.35 after 25 epochs\n",
    "\n",
    "    # test the model\n",
    "    preds = tf.nn.softmax(logits)\n",
    "    correct_preds = tf.equal(tf.argmax(preds, 1), tf.argmax(y, 1))\n",
    "    accuracy = tf.reduce_sum(tf.cast(correct_preds, tf.float32)) # need numpy.count_nonzero(boolarr) :(\n",
    "    \n",
    "    n_batches = int(mnist.test.num_examples/batch_size)\n",
    "    total_correct_preds = 0\n",
    "    \n",
    "    for i in range(n_batches):\n",
    "        X_batch, Y_batch = mnist.test.next_batch(batch_size)\n",
    "        accuracy_batch = sess.run([accuracy], feed_dict={X: X_batch, y:Y_batch})[0] \n",
    "        total_correct_preds += accuracy_batch   \n",
    "    \n",
    "    print('Accuracy {0}'.format(total_correct_preds/mnist.test.num_examples))"
   ]
  },
  {
   "cell_type": "code",
   "execution_count": null,
   "metadata": {},
   "outputs": [],
   "source": []
  },
  {
   "cell_type": "code",
   "execution_count": null,
   "metadata": {},
   "outputs": [],
   "source": []
  },
  {
   "cell_type": "code",
   "execution_count": null,
   "metadata": {
    "collapsed": true
   },
   "outputs": [],
   "source": []
  }
 ],
 "metadata": {
  "kernelspec": {
   "display_name": "Python 3",
   "language": "python",
   "name": "python3"
  },
  "language_info": {
   "codemirror_mode": {
    "name": "ipython",
    "version": 3
   },
   "file_extension": ".py",
   "mimetype": "text/x-python",
   "name": "python",
   "nbconvert_exporter": "python",
   "pygments_lexer": "ipython3",
   "version": "3.6.2"
  }
 },
 "nbformat": 4,
 "nbformat_minor": 2
}
